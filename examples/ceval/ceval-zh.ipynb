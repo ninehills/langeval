{
 "cells": [
  {
   "cell_type": "markdown",
   "metadata": {},
   "source": [
    "# C-Eval\n",
    "\n",
    "A Multi-Level Multi-Discipline Chinese Evaluation Suite for Foundation Models\n",
    "\n",
    "Dataset: <https://huggingface.co/datasets/ceval/ceval-exam>\n",
    "\n",
    "ceval 的数据分为 test/val/dev 三类，其中 test/val 没有标准答案，而  dev 有标准答案。\n",
    "这里有两类任务的示例：\n",
    "\n",
    "1. 使用标准答案进行匹配：`ceval-with-answer` 任务，使用 `ceval` 数据集的 `dev` 部分。\n",
    "2. 使用 GPT-4 进行判卷：`ceval-llm-judge` 任务，使用 `ceval` 数据集的 `test/val` 部分。\n",
    "\n",
    "## 1. 数据处理\n",
    "\n",
    "ceval 的数据格式为 huggingface dataset，需要转换为本工具依赖的 jsonl 格式。\n",
    "同时仅作为示例的话，每个任务仅保留 5 条数据。"
   ]
  },
  {
   "cell_type": "code",
   "execution_count": null,
   "metadata": {},
   "outputs": [],
   "source": [
    "%pip install langeval-cli\n",
    "%pip install datasets"
   ]
  },
  {
   "cell_type": "code",
   "execution_count": 15,
   "metadata": {},
   "outputs": [
    {
     "name": "stdout",
     "output_type": "stream",
     "text": [
      ">>> ceval-with-answer.jsonl\n",
      "{'id': 0, 'question': '下列设备属于资源子网的是____。', 'A': '计算机软件', 'B': '网桥', 'C': '交换机', 'D': '路由器', 'answer': 'A', 'explanation': '1. 首先，资源子网是指提供共享资源的网络，如打印机、文件服务器等。\\r\\n2. 其次，我们需要了解选项中设备的功能。网桥、交换机和路由器的主要功能是实现不同网络之间的通信和数据传输，是通信子网设备。而计算机软件可以提供共享资源的功能。'}\n",
      "{'id': 1, 'question': '滑动窗口的作用是____。', 'A': '流量控制', 'B': '拥塞控制', 'C': '路由控制', 'D': '差错控制', 'answer': 'A', 'explanation': '1. 滑动窗口是一种流量控制机制，用于控制发送方向接收方发送数据的速率，以避免接收方无法处理过多的数据而导致数据丢失或拥塞。'}\n",
      "{'id': 2, 'question': '在OSI参考模型中，直接为会话层提供服务的是____。', 'A': '应用层', 'B': '表示层', 'C': '传输层', 'D': '网络层', 'answer': 'C', 'explanation': '1. 直接为会话层提供服务的是会话层的下一层，即传输层。'}\n",
      "{'id': 3, 'question': '协议是指在____之间进行通信的规则或约定。', 'A': '同一结点的上下层', 'B': '不同结点', 'C': '相邻实体', 'D': '不同结点对等实体', 'answer': 'D', 'explanation': '1. 协议是指在不同结点对等实体之间进行通信的规则或约定。'}\n",
      "{'id': 4, 'question': '主机甲与主机乙之间使用后退N帧协议(GBN)传输数据，甲的发送窗口尺寸为1000，数据帧长为1000字节，信道带宽为100Mbps，乙每收到一个数据帧立即利用一个短帧(忽略其传输延迟)进行确认，若甲、乙之间的单向传播延迟是50ms，则甲可以达到的最大平均数据传输速率约为____。', 'A': '10Mbps', 'B': '20Mbps', 'C': '80Mbps', 'D': '100Mbps', 'answer': 'C', 'explanation': '1. 主机甲、乙之间采用后退N帧协议，那么因为甲、乙主机之间采用后退N帧协议传输数据，要考虑发送一个数据到接收到它的确认之前，最多能发送多少数据，所以甲的最大传输速率是这个值和信道带宽中小的那一个。\\r\\n2. 甲的发送窗口的尺寸为1000，即收到第一个数据的确认之前，最多能发送1000个数据帧，也就是发送1000*1000B=1MB的内容，而从发送第一个帧到接收到它的确认的时间是一个往返时延，也就是50+50=100ms=0.1s，即在100ms中，最多能传输1MB的数据，因此，此时的最大传输速率为lMB/0.1s=10MB/s=80Mbps。\\r\\n3. 信道带宽为100Mbps，所以答案为min{80Mbps, 100Mbps}=80Mbps，选C。'}\n",
      ">>> ceval-llm-judge.jsonl\n",
      "{'id': 0, 'question': '计算机网络的资源主要是指____。', 'A': '服务器、路由器、通信线路与用户计算机', 'B': '计算机操作系统、数据库与应用软件', 'C': '计算机硬件、软件与数据', 'D': 'Web服务器、数据库服务器与文件服务器', 'answer': '', 'explanation': ''}\n",
      "{'id': 1, 'question': '____是传输层数据交换的基本单位。', 'A': '位', 'B': '分组', 'C': '帧', 'D': '报文段', 'answer': '', 'explanation': ''}\n",
      "{'id': 2, 'question': 'TCP使用____次握手协议建立连接。', 'A': '一', 'B': '二', 'C': '三', 'D': '四', 'answer': '', 'explanation': ''}\n",
      "{'id': 3, 'question': 'TCP使用慢启动算法是为了____', 'A': '减小拥堵', 'B': '高速传输', 'C': '快速探测网络承载力', 'D': '适应接收窗口的大小', 'answer': '', 'explanation': ''}\n",
      "{'id': 4, 'question': '差分曼彻斯特码的原理是：每一位中间都有一个跳变，位中间跳变表示____', 'A': '时钟', 'B': '同步', 'C': '数据', 'D': '定界', 'answer': '', 'explanation': ''}\n"
     ]
    }
   ],
   "source": [
    "import json\n",
    "from datasets import load_dataset\n",
    "print(\">>> ceval-with-answer.jsonl\")\n",
    "dev_dataset = load_dataset(r\"ceval/ceval-exam\", name=\"computer_network\", split=\"dev\", streaming=True)\n",
    "with open(\"ceval-with-answer.jsonl\", 'w') as f:\n",
    "    for data in dev_dataset.take(5):\n",
    "        print(data)\n",
    "        f.write(json.dumps(data, ensure_ascii=False) + '\\n')\n",
    "\n",
    "print(\">>> ceval-llm-judge.jsonl\")\n",
    "test_dataset = load_dataset(r\"ceval/ceval-exam\", name=\"computer_network\", split=\"test\", streaming=True)\n",
    "with open(\"ceval-llm-judge.jsonl\", 'w') as f:\n",
    "    for data in test_dataset.take(5):\n",
    "        print(data)\n",
    "        f.write(json.dumps(data, ensure_ascii=False) + '\\n')"
   ]
  },
  {
   "cell_type": "markdown",
   "metadata": {},
   "source": [
    "## 2. `ceval-with-answer` 任务，使用标准答案进行匹配。"
   ]
  },
  {
   "cell_type": "markdown",
   "metadata": {},
   "source": [
    "```bash\n",
    "# 可以先使用 sample 参数来测试单条数据\n",
    "export OPENAI_API_KEY=\"sk-xxxxx\"\n",
    "langeval -vv run ceval-with-answer.yaml --sample\n",
    "\n",
    "# 全量测试\n",
    "langeval run ceval-with-answer.yaml\n",
    "```\n",
    "\n",
    "输出示例：\n",
    "```bash\n",
    ">>> Loaded task from ../examples/ceval/ceval-with-answer.yaml successfully, task_id: 2311021343-7dd9\n",
    "Output dir: output/2311021343-7dd9\n",
    "Output dir created: output/2311021343-7dd9\n",
    ">>> Start running task 2311021343-7dd9\n",
    "[runner.start] start task runner\n",
    ">>> Task 2311021343-7dd9 running...\n",
    "[runner._run] start task run : parallelism=1 timeout=30 rounds=2\n",
    "[runner._run] task run: 5 * 2 = 10\n",
    "[runner._run] task sample to 1 data.\n",
    "[runner._run] task progress 1/0/1, result: inputs={'id': 0, 'question': '下列设备属于资源子网的是____。', 'A': '计算机软件', 'B': '网桥', 'C': '交换机', 'D': '路由器', 'answer': 'A', 'explanation': '1. 首先，资源子网是指提供共享资源的网络，如打印机、文件服务器等。\\r\\n2. 其次，我们需要了解选项中设备的功能。网桥、交换机和路由器的主要功能是实现不同网络之间的通信和数据传输，是通信子网设备。而计算机软件可以提供共享资源的功能。'} run_error='' run_outputs={'reasoning': '资源子网是指由一组计算机和相关设备组成的网络，用于共享资源和信息。计算机软件不属于设备，因此排除选项 A。网桥是用于连接两个局域网的设备，不属于资源子网的设备，因此排除选项 B。交换机是用于连接多个计算机的设备，属于资源子网的设备，因此选项 C 是正确答案。路由器是用于连接不同网络的设备，不属于资源子网的设备，因此排除选项 D。', 'choice': 'C', '_text': '\\n\\n```json\\n{\\n    \"reasoning\": \"资源子网是指由一组计算机和相关设备组成的网络，用于共享资源和信息。计算机软件不属于设备，因此排除选项 A。网桥是用于连接两个局域网的设备，不属于资源子网的设备，因此排除选项 B。交换机是用于连接多个计算机的设备，属于资源子网的设备，因此选项 C 是正确答案。路由器是用于连接不同网络的设备，不属于资源子网的设备，因此排除选项 D。\",\\n    \"choice\": \"C\"\\n}\\n```'} run_elapsed_secs=3.299008 eval_error='' eval_outputs={'score': 0} eval_elapsed_secs=0.037781\n",
    "[runner._run] task finished\n",
    ">>> Task 2311021343-7dd9 finish: TaskRunnerStatus.FINISHED.\n",
    "────────────────────────────────────────────────────────────────────────────────────────────────── >>> Task Info ──────────────────────────────────────────────────────────────────────────────────────────────────\n",
    "ID: 2311021343-7dd9\n",
    "Status: TaskRunnerStatus.FINISHED\n",
    "Progress: 1/0/1\n",
    "Output JSONL: output/2311021343-7dd9/output.jsonl\n",
    "───────────────────────────────────────────────────────────────────── Result Sample, see output/2311021343-7dd9/output.jsonl for all results. \n",
    "```"
   ]
  },
  {
   "cell_type": "markdown",
   "metadata": {},
   "source": [
    "## 3. `ceval-llm-judge` 任务，使用 GPT-4 进行判卷。\n",
    "\n",
    "```bash\n",
    "export OPENAI_API_KEY=\"sk-xxxxx\"\n",
    "# 单个问题\n",
    "langeval run ceval-llm-judge.yaml --sample\n",
    "\n",
    "# 全量测试\n",
    "langeval run ceval-llm-judge.yaml\n",
    "```"
   ]
  }
 ],
 "metadata": {
  "kernelspec": {
   "display_name": "langeval-cli",
   "language": "python",
   "name": "python3"
  },
  "language_info": {
   "codemirror_mode": {
    "name": "ipython",
    "version": 3
   },
   "file_extension": ".py",
   "mimetype": "text/x-python",
   "name": "python",
   "nbconvert_exporter": "python",
   "pygments_lexer": "ipython3",
   "version": "3.11.5"
  }
 },
 "nbformat": 4,
 "nbformat_minor": 2
}
