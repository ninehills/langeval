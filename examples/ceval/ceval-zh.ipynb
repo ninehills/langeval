{
 "cells": [
  {
   "cell_type": "markdown",
   "metadata": {},
   "source": [
    "# C-Eval\n",
    "\n",
    "A Multi-Level Multi-Discipline Chinese Evaluation Suite for Foundation Models\n",
    "\n",
    "Dataset: <https://huggingface.co/datasets/ceval/ceval-exam>\n",
    "\n",
    "ceval 的数据分为 test/val/dev 三类，其中 test/val 没有标准答案，而  dev 有标准答案。\n",
    "这里有两类任务的示例：\n",
    "\n",
    "1. 使用标准答案进行匹配：`ceval-with-answer` 任务，使用 `ceval` 数据集的 `dev` 部分。\n",
    "2. 使用 GPT-4 进行判卷：`ceval-llm-judge` 任务，使用 `ceval` 数据集的 `test/val` 部分。\n",
    "\n",
    "构建 Prompt 的时候我们采用 Zero-shot + COT + JSON 输出的方式。\n",
    "\n",
    "- 使用 Zero-shot 是减少 Prompt 的长度，同时最大限度的考验模型能力。\n",
    "- 使用 COT 不仅能提升效果，关键是能给出输出以及判卷的理由，方便后续的人工分析。\n",
    "- JSON 输出是生产环境下大模型应用的标准输出格式，同时也是大模型具备的基础能力。\n",
    "\n",
    "## 1. 数据处理\n",
    "\n",
    "ceval 的数据格式为 huggingface dataset，需要转换为本工具依赖的 jsonl 格式。\n",
    "同时仅作为示例的话，每个任务仅保留 5 条数据。"
   ]
  },
  {
   "cell_type": "code",
   "execution_count": null,
   "metadata": {},
   "outputs": [],
   "source": [
    "%pip install -U langeval-cli\n",
    "%pip install datasets"
   ]
  },
  {
   "cell_type": "code",
   "execution_count": 2,
   "metadata": {},
   "outputs": [
    {
     "name": "stderr",
     "output_type": "stream",
     "text": [
      "/Users/cynic/Library/Application Support/hatch/env/virtual/langeval-cli/2wcUcvzY/langeval-cli/lib/python3.11/site-packages/tqdm/auto.py:21: TqdmWarning: IProgress not found. Please update jupyter and ipywidgets. See https://ipywidgets.readthedocs.io/en/stable/user_install.html\n",
      "  from .autonotebook import tqdm as notebook_tqdm\n"
     ]
    },
    {
     "name": "stdout",
     "output_type": "stream",
     "text": [
      ">>> ceval-with-answer.jsonl\n",
      "{'id': 0, 'question': '下列设备属于资源子网的是____。', 'A': '计算机软件', 'B': '网桥', 'C': '交换机', 'D': '路由器', 'answer': 'A', 'explanation': '1. 首先，资源子网是指提供共享资源的网络，如打印机、文件服务器等。\\r\\n2. 其次，我们需要了解选项中设备的功能。网桥、交换机和路由器的主要功能是实现不同网络之间的通信和数据传输，是通信子网设备。而计算机软件可以提供共享资源的功能。'}\n",
      "{'id': 1, 'question': '滑动窗口的作用是____。', 'A': '流量控制', 'B': '拥塞控制', 'C': '路由控制', 'D': '差错控制', 'answer': 'A', 'explanation': '1. 滑动窗口是一种流量控制机制，用于控制发送方向接收方发送数据的速率，以避免接收方无法处理过多的数据而导致数据丢失或拥塞。'}\n",
      "{'id': 2, 'question': '在OSI参考模型中，直接为会话层提供服务的是____。', 'A': '应用层', 'B': '表示层', 'C': '传输层', 'D': '网络层', 'answer': 'C', 'explanation': '1. 直接为会话层提供服务的是会话层的下一层，即传输层。'}\n",
      "{'id': 3, 'question': '协议是指在____之间进行通信的规则或约定。', 'A': '同一结点的上下层', 'B': '不同结点', 'C': '相邻实体', 'D': '不同结点对等实体', 'answer': 'D', 'explanation': '1. 协议是指在不同结点对等实体之间进行通信的规则或约定。'}\n",
      "{'id': 4, 'question': '主机甲与主机乙之间使用后退N帧协议(GBN)传输数据，甲的发送窗口尺寸为1000，数据帧长为1000字节，信道带宽为100Mbps，乙每收到一个数据帧立即利用一个短帧(忽略其传输延迟)进行确认，若甲、乙之间的单向传播延迟是50ms，则甲可以达到的最大平均数据传输速率约为____。', 'A': '10Mbps', 'B': '20Mbps', 'C': '80Mbps', 'D': '100Mbps', 'answer': 'C', 'explanation': '1. 主机甲、乙之间采用后退N帧协议，那么因为甲、乙主机之间采用后退N帧协议传输数据，要考虑发送一个数据到接收到它的确认之前，最多能发送多少数据，所以甲的最大传输速率是这个值和信道带宽中小的那一个。\\r\\n2. 甲的发送窗口的尺寸为1000，即收到第一个数据的确认之前，最多能发送1000个数据帧，也就是发送1000*1000B=1MB的内容，而从发送第一个帧到接收到它的确认的时间是一个往返时延，也就是50+50=100ms=0.1s，即在100ms中，最多能传输1MB的数据，因此，此时的最大传输速率为lMB/0.1s=10MB/s=80Mbps。\\r\\n3. 信道带宽为100Mbps，所以答案为min{80Mbps, 100Mbps}=80Mbps，选C。'}\n",
      ">>> ceval-llm-judge.jsonl\n",
      "{'id': 0, 'question': '计算机网络的资源主要是指____。', 'A': '服务器、路由器、通信线路与用户计算机', 'B': '计算机操作系统、数据库与应用软件', 'C': '计算机硬件、软件与数据', 'D': 'Web服务器、数据库服务器与文件服务器', 'answer': '', 'explanation': ''}\n",
      "{'id': 1, 'question': '____是传输层数据交换的基本单位。', 'A': '位', 'B': '分组', 'C': '帧', 'D': '报文段', 'answer': '', 'explanation': ''}\n",
      "{'id': 2, 'question': 'TCP使用____次握手协议建立连接。', 'A': '一', 'B': '二', 'C': '三', 'D': '四', 'answer': '', 'explanation': ''}\n",
      "{'id': 3, 'question': 'TCP使用慢启动算法是为了____', 'A': '减小拥堵', 'B': '高速传输', 'C': '快速探测网络承载力', 'D': '适应接收窗口的大小', 'answer': '', 'explanation': ''}\n",
      "{'id': 4, 'question': '差分曼彻斯特码的原理是：每一位中间都有一个跳变，位中间跳变表示____', 'A': '时钟', 'B': '同步', 'C': '数据', 'D': '定界', 'answer': '', 'explanation': ''}\n"
     ]
    }
   ],
   "source": [
    "import json\n",
    "from datasets import load_dataset\n",
    "print(\">>> ceval-with-answer.jsonl\")\n",
    "dev_dataset = load_dataset(r\"ceval/ceval-exam\", name=\"computer_network\", split=\"dev\", streaming=True)\n",
    "with open(\"ceval-with-answer.jsonl\", 'w') as f:\n",
    "    for data in dev_dataset.take(5):\n",
    "        print(data)\n",
    "        f.write(json.dumps(data, ensure_ascii=False) + '\\n')\n",
    "\n",
    "print(\">>> ceval-llm-judge.jsonl\")\n",
    "test_dataset = load_dataset(r\"ceval/ceval-exam\", name=\"computer_network\", split=\"test\", streaming=True)\n",
    "with open(\"ceval-llm-judge.jsonl\", 'w') as f:\n",
    "    for data in test_dataset.take(5):\n",
    "        print(data)\n",
    "        f.write(json.dumps(data, ensure_ascii=False) + '\\n')"
   ]
  },
  {
   "cell_type": "markdown",
   "metadata": {},
   "source": [
    "## 2. `ceval-with-answer` 任务，使用标准答案进行匹配。"
   ]
  },
  {
   "cell_type": "code",
   "execution_count": null,
   "metadata": {},
   "outputs": [],
   "source": [
    "%pip install openai"
   ]
  },
  {
   "cell_type": "code",
   "execution_count": 12,
   "metadata": {},
   "outputs": [
    {
     "name": "stdout",
     "output_type": "stream",
     "text": [
      "\u001b[1m>>> Loaded task from ceval-with-answer.yaml successfully, task_id: 2311031531-c895\u001b[0m\u001b[1m\n",
      "\u001b[0m\u001b[1mOutput dir: output/2311031531-c895\u001b[0m\u001b[1m\n",
      "\u001b[0m\u001b[1mOutput dir created: output/2311031531-c895\u001b[0m\u001b[1m\n",
      "\u001b[0m\u001b[1;35m>>> Start running task 2311031531-c895\u001b[0m\u001b[1;35m\n",
      "\u001b[0m\u001b[1m[2023-11-03T07:31:50.608485][task-2311031531-c895][runner.start] start task runner\n",
      "\u001b[0m\u001b[1m\n",
      "\u001b[0m\u001b[1mStatus: TaskRunnerStatus.RUNNING\u001b[0m\u001b[1m\n",
      "\u001b[0m\u001b[1m[2023-11-03T07:31:50.609085][task-2311031531-c895][runner._run] start task run : parallelism=5 timeout=30 rounds=2\n",
      "\u001b[0m\u001b[1m\n",
      "\u001b[0m\u001b[1;35m>>> Task 2311031531-c895 running...\u001b[0m\u001b[1;35m\n",
      "\u001b[0m\u001b[1m[2023-11-03T07:31:50.609449][task-2311031531-c895][runner._run] task run: 5 * 2 = 10\n",
      "\u001b[0m\u001b[1m\n",
      "\u001b[0m\u001b[1m[2023-11-03T07:31:50.609585][task-2311031531-c895][runner._run] task sample to 1 data.\n",
      "\u001b[0m\u001b[1m\n",
      "\u001b[0m\u001b[1m[2023-11-03T07:31:53.494028][task-2311031531-c895][runner._run] task progress 1/0/1, result: inputs={'id': 0, 'question': '下列设备属于资源子网的是____。', 'A': '计算机软件', 'B': '网桥', 'C': '交换机', 'D': '路由器', 'answer': 'A', 'explanation': '1. 首先，资源子网是指提供共享资源的网络，如打印机、文件服务器等。\\r\\n2. 其次，我们需要了解选项中设备的功能。网桥、交换机和路由器的主要功能是实现不同网络之间的通信和数据传输，是通信子网设备。而计算机软件可以提供共享资源的功能。'} run_error='' run_outputs={'reasoning': '资源子网是指由一组计算机和相关设备组成的网络，用于共享资源和信息。计算机软件并不属于设备，网桥和交换机都是用于连接多台计算机的设备，但是路由器可以连接不同的子网，因此属于资源子网的设备是路由器。', 'choice': 'D', '_text': '\\n\\n```json\\n{\\n    \"reasoning\": \"资源子网是指由一组计算机和相关设备组成的网络，用于共享资源和信息。计算机软件并不属于设备，网桥和交换机都是用于连接多台计算机的设备，但是路由器可以连接不同的子网，因此属于资源子网的设备是路由器。\",\\n    \"choice\": \"D\"\\n}\\n```'} run_elapsed_secs=2.845847 eval_error='' eval_outputs={'score': 0} eval_elapsed_secs=0.038005\n",
      "\u001b[0m\u001b[1m\n",
      "\u001b[0m\u001b[1mProgress: 1/0/1\u001b[0m\u001b[1m\n",
      "\u001b[0m\u001b[1mStatus: TaskRunnerStatus.FINISHED\u001b[0m\u001b[1m\n",
      "\u001b[0m\u001b[1m[2023-11-03T07:31:53.497754][task-2311031531-c895][runner._run] task finished\n",
      "\u001b[0m\u001b[1m\n",
      "\u001b[0m\u001b[1;36m>>> Task 2311031531-c895 finish: TaskRunnerStatus.FINISHED.\u001b[0m\u001b[1;36m\n",
      "\u001b[0m\u001b[92m────────────────────────────────── \u001b[0m\u001b[1;36mTask Info\u001b[0m\u001b[92m ───────────────────────────────────\u001b[0m\n",
      "\u001b[1mID: 2311031531-c895\u001b[0m\u001b[1m\n",
      "\u001b[0m\u001b[1mStatus: TaskRunnerStatus.FINISHED\u001b[0m\u001b[1m\n",
      "\u001b[0m\u001b[1mProgress: 1/0/1\u001b[0m\u001b[1m\n",
      "\u001b[0m\u001b[1mOutput JSONL: output/2311031531-c895/output.jsonl\u001b[0m\u001b[1m\n",
      "\u001b[0m\u001b[92m──────────────────────────────── \u001b[0m\u001b[1;36mTask Stastics\u001b[0m\u001b[92m ─────────────────────────────────\u001b[0m\n",
      "                                   Run stats                                    \n",
      "+------------+------------+------------+------------+-------------+------------+\n",
      "|\u001b[1m            \u001b[0m|\u001b[1m \u001b[0m\u001b[1mRun       \u001b[0m\u001b[1m \u001b[0m|\u001b[1m \u001b[0m\u001b[1mRun       \u001b[0m\u001b[1m \u001b[0m|\u001b[1m \u001b[0m\u001b[1mRun       \u001b[0m\u001b[1m \u001b[0m|\u001b[1m \u001b[0m\u001b[1mEval       \u001b[0m\u001b[1m \u001b[0m|\u001b[1m \u001b[0m\u001b[1mEval      \u001b[0m\u001b[1m \u001b[0m|\n",
      "|\u001b[1m \u001b[0m\u001b[1mTotal     \u001b[0m\u001b[1m \u001b[0m|\u001b[1m \u001b[0m\u001b[1msuccess   \u001b[0m\u001b[1m \u001b[0m|\u001b[1m \u001b[0m\u001b[1msuccess   \u001b[0m\u001b[1m \u001b[0m|\u001b[1m \u001b[0m\u001b[1maverage   \u001b[0m\u001b[1m \u001b[0m|\u001b[1m \u001b[0m\u001b[1msuccess    \u001b[0m\u001b[1m \u001b[0m|\u001b[1m \u001b[0m\u001b[1maverage   \u001b[0m\u001b[1m \u001b[0m|\n",
      "|\u001b[1m \u001b[0m\u001b[1mcount     \u001b[0m\u001b[1m \u001b[0m|\u001b[1m \u001b[0m\u001b[1mrate      \u001b[0m\u001b[1m \u001b[0m|\u001b[1m \u001b[0m\u001b[1mcount     \u001b[0m\u001b[1m \u001b[0m|\u001b[1m \u001b[0m\u001b[1msecs      \u001b[0m\u001b[1m \u001b[0m|\u001b[1m \u001b[0m\u001b[1mrate       \u001b[0m\u001b[1m \u001b[0m|\u001b[1m \u001b[0m\u001b[1msecs      \u001b[0m\u001b[1m \u001b[0m|\n",
      "+============+============+============+============+=============+============+\n",
      "|\u001b[1m \u001b[0m\u001b[1m1         \u001b[0m\u001b[1m \u001b[0m|\u001b[1m \u001b[0m\u001b[1m100.00%   \u001b[0m\u001b[1m \u001b[0m|\u001b[1m \u001b[0m\u001b[1m1         \u001b[0m\u001b[1m \u001b[0m|\u001b[1m \u001b[0m\u001b[1m2.85      \u001b[0m\u001b[1m \u001b[0m|\u001b[1m \u001b[0m\u001b[1m100.00%    \u001b[0m\u001b[1m \u001b[0m|\u001b[1m \u001b[0m\u001b[1m0.04      \u001b[0m\u001b[1m \u001b[0m|\n",
      "+------------+------------+------------+------------+-------------+------------+\n",
      "                         Eval stats                         \n",
      "+-------+-------+------+-----+-----+-----+-----+-----+-----+\n",
      "|\u001b[1m \u001b[0m\u001b[1meval \u001b[0m\u001b[1m \u001b[0m|\u001b[1m \u001b[0m\u001b[1mcount\u001b[0m\u001b[1m \u001b[0m|\u001b[1m \u001b[0m\u001b[1mmean\u001b[0m\u001b[1m \u001b[0m|\u001b[1m \u001b[0m\u001b[1mstd\u001b[0m\u001b[1m \u001b[0m|\u001b[1m \u001b[0m\u001b[1mmin\u001b[0m\u001b[1m \u001b[0m|\u001b[1m \u001b[0m\u001b[1m25%\u001b[0m\u001b[1m \u001b[0m|\u001b[1m \u001b[0m\u001b[1m50%\u001b[0m\u001b[1m \u001b[0m|\u001b[1m \u001b[0m\u001b[1m75%\u001b[0m\u001b[1m \u001b[0m|\u001b[1m \u001b[0m\u001b[1mmax\u001b[0m\u001b[1m \u001b[0m|\n",
      "+=======+=======+======+=====+=====+=====+=====+=====+=====+\n",
      "|\u001b[1m \u001b[0m\u001b[1mscore\u001b[0m\u001b[1m \u001b[0m|\u001b[1m \u001b[0m\u001b[1m1.0  \u001b[0m\u001b[1m \u001b[0m|\u001b[1m \u001b[0m\u001b[1m0.0 \u001b[0m\u001b[1m \u001b[0m|\u001b[1m \u001b[0m\u001b[1mnan\u001b[0m\u001b[1m \u001b[0m|\u001b[1m \u001b[0m\u001b[1m0.0\u001b[0m\u001b[1m \u001b[0m|\u001b[1m \u001b[0m\u001b[1m0.0\u001b[0m\u001b[1m \u001b[0m|\u001b[1m \u001b[0m\u001b[1m0.0\u001b[0m\u001b[1m \u001b[0m|\u001b[1m \u001b[0m\u001b[1m0.0\u001b[0m\u001b[1m \u001b[0m|\u001b[1m \u001b[0m\u001b[1m0.0\u001b[0m\u001b[1m \u001b[0m|\n",
      "+-------+-------+------+-----+-----+-----+-----+-----+-----+\n",
      "\u001b[92m─── \u001b[0m\u001b[1;36mResult Sample, see output/2311031531-c895/output.jsonl for all results.\u001b[0m\u001b[92m ────\u001b[0m\n",
      "                             Success result sample                              \n",
      "+----------+----------+----------+-----------+----------+-----------+----------+\n",
      "|\u001b[1m \u001b[0m\u001b[1minputs  \u001b[0m\u001b[1m \u001b[0m|\u001b[1m \u001b[0m\u001b[1mrun_err…\u001b[0m\u001b[1m \u001b[0m|\u001b[1m \u001b[0m\u001b[1mrun_out…\u001b[0m\u001b[1m \u001b[0m|\u001b[1m \u001b[0m\u001b[1mrun_elap…\u001b[0m\u001b[1m \u001b[0m|\u001b[1m \u001b[0m\u001b[1meval_er…\u001b[0m\u001b[1m \u001b[0m|\u001b[1m \u001b[0m\u001b[1meval_out…\u001b[0m\u001b[1m \u001b[0m|\u001b[1m \u001b[0m\u001b[1meval_el…\u001b[0m\u001b[1m \u001b[0m|\n",
      "+==========+==========+==========+===========+==========+===========+==========+\n",
      "|\u001b[1m \u001b[0m\u001b[1m{       \u001b[0m\u001b[1m \u001b[0m|\u001b[1m \u001b[0m\u001b[1m        \u001b[0m\u001b[1m \u001b[0m|\u001b[1m \u001b[0m\u001b[1m{       \u001b[0m\u001b[1m \u001b[0m|\u001b[1m \u001b[0m\u001b[1m2.845847 \u001b[0m\u001b[1m \u001b[0m|\u001b[1m \u001b[0m\u001b[1m        \u001b[0m\u001b[1m \u001b[0m|\u001b[1m \u001b[0m\u001b[1m{        \u001b[0m\u001b[1m \u001b[0m|\u001b[1m \u001b[0m\u001b[1m0.038005\u001b[0m\u001b[1m \u001b[0m|\n",
      "|\u001b[1m \u001b[0m\u001b[1m  \"id\": \u001b[0m\u001b[1m \u001b[0m|\u001b[1m          \u001b[0m|\u001b[1m \u001b[0m\u001b[1m  \"reas…\u001b[0m\u001b[1m \u001b[0m|\u001b[1m           \u001b[0m|\u001b[1m          \u001b[0m|\u001b[1m \u001b[0m\u001b[1m  \"score…\u001b[0m\u001b[1m \u001b[0m|\u001b[1m          \u001b[0m|\n",
      "|\u001b[1m \u001b[0m\u001b[1m0,      \u001b[0m\u001b[1m \u001b[0m|\u001b[1m          \u001b[0m|\u001b[1m \u001b[0m\u001b[1m\"资源子…\u001b[0m\u001b[1m \u001b[0m|\u001b[1m           \u001b[0m|\u001b[1m          \u001b[0m|\u001b[1m \u001b[0m\u001b[1m0        \u001b[0m\u001b[1m \u001b[0m|\u001b[1m          \u001b[0m|\n",
      "|\u001b[1m \u001b[0m\u001b[1m  \"ques…\u001b[0m\u001b[1m \u001b[0m|\u001b[1m          \u001b[0m|\u001b[1m \u001b[0m\u001b[1m  \"choi…\u001b[0m\u001b[1m \u001b[0m|\u001b[1m           \u001b[0m|\u001b[1m          \u001b[0m|\u001b[1m \u001b[0m\u001b[1m}        \u001b[0m\u001b[1m \u001b[0m|\u001b[1m          \u001b[0m|\n",
      "|\u001b[1m \u001b[0m\u001b[1m\"下列设…\u001b[0m\u001b[1m \u001b[0m|\u001b[1m          \u001b[0m|\u001b[1m \u001b[0m\u001b[1m\"D\"     \u001b[0m\u001b[1m \u001b[0m|\u001b[1m           \u001b[0m|\u001b[1m          \u001b[0m|\u001b[1m           \u001b[0m|\u001b[1m          \u001b[0m|\n",
      "|\u001b[1m \u001b[0m\u001b[1m  \"A\":  \u001b[0m\u001b[1m \u001b[0m|\u001b[1m          \u001b[0m|\u001b[1m \u001b[0m\u001b[1m}       \u001b[0m\u001b[1m \u001b[0m|\u001b[1m           \u001b[0m|\u001b[1m          \u001b[0m|\u001b[1m           \u001b[0m|\u001b[1m          \u001b[0m|\n",
      "|\u001b[1m \u001b[0m\u001b[1m\"计算机…\u001b[0m\u001b[1m \u001b[0m|\u001b[1m          \u001b[0m|\u001b[1m          \u001b[0m|\u001b[1m           \u001b[0m|\u001b[1m          \u001b[0m|\u001b[1m           \u001b[0m|\u001b[1m          \u001b[0m|\n",
      "|\u001b[1m \u001b[0m\u001b[1m  \"B\":  \u001b[0m\u001b[1m \u001b[0m|\u001b[1m          \u001b[0m|\u001b[1m          \u001b[0m|\u001b[1m           \u001b[0m|\u001b[1m          \u001b[0m|\u001b[1m           \u001b[0m|\u001b[1m          \u001b[0m|\n",
      "|\u001b[1m \u001b[0m\u001b[1m\"网桥\", \u001b[0m\u001b[1m \u001b[0m|\u001b[1m          \u001b[0m|\u001b[1m          \u001b[0m|\u001b[1m           \u001b[0m|\u001b[1m          \u001b[0m|\u001b[1m           \u001b[0m|\u001b[1m          \u001b[0m|\n",
      "|\u001b[1m \u001b[0m\u001b[1m  \"C\":  \u001b[0m\u001b[1m \u001b[0m|\u001b[1m          \u001b[0m|\u001b[1m          \u001b[0m|\u001b[1m           \u001b[0m|\u001b[1m          \u001b[0m|\u001b[1m           \u001b[0m|\u001b[1m          \u001b[0m|\n",
      "|\u001b[1m \u001b[0m\u001b[1m\"交换机…\u001b[0m\u001b[1m \u001b[0m|\u001b[1m          \u001b[0m|\u001b[1m          \u001b[0m|\u001b[1m           \u001b[0m|\u001b[1m          \u001b[0m|\u001b[1m           \u001b[0m|\u001b[1m          \u001b[0m|\n",
      "|\u001b[1m \u001b[0m\u001b[1m  \"D\":  \u001b[0m\u001b[1m \u001b[0m|\u001b[1m          \u001b[0m|\u001b[1m          \u001b[0m|\u001b[1m           \u001b[0m|\u001b[1m          \u001b[0m|\u001b[1m           \u001b[0m|\u001b[1m          \u001b[0m|\n",
      "|\u001b[1m \u001b[0m\u001b[1m\"路由器…\u001b[0m\u001b[1m \u001b[0m|\u001b[1m          \u001b[0m|\u001b[1m          \u001b[0m|\u001b[1m           \u001b[0m|\u001b[1m          \u001b[0m|\u001b[1m           \u001b[0m|\u001b[1m          \u001b[0m|\n",
      "|\u001b[1m \u001b[0m\u001b[1m  \"answ…\u001b[0m\u001b[1m \u001b[0m|\u001b[1m          \u001b[0m|\u001b[1m          \u001b[0m|\u001b[1m           \u001b[0m|\u001b[1m          \u001b[0m|\u001b[1m           \u001b[0m|\u001b[1m          \u001b[0m|\n",
      "|\u001b[1m \u001b[0m\u001b[1m\"A\",    \u001b[0m\u001b[1m \u001b[0m|\u001b[1m          \u001b[0m|\u001b[1m          \u001b[0m|\u001b[1m           \u001b[0m|\u001b[1m          \u001b[0m|\u001b[1m           \u001b[0m|\u001b[1m          \u001b[0m|\n",
      "|\u001b[1m \u001b[0m\u001b[1m  \"expl…\u001b[0m\u001b[1m \u001b[0m|\u001b[1m          \u001b[0m|\u001b[1m          \u001b[0m|\u001b[1m           \u001b[0m|\u001b[1m          \u001b[0m|\u001b[1m           \u001b[0m|\u001b[1m          \u001b[0m|\n",
      "|\u001b[1m \u001b[0m\u001b[1m\"1.     \u001b[0m\u001b[1m \u001b[0m|\u001b[1m          \u001b[0m|\u001b[1m          \u001b[0m|\u001b[1m           \u001b[0m|\u001b[1m          \u001b[0m|\u001b[1m           \u001b[0m|\u001b[1m          \u001b[0m|\n",
      "|\u001b[1m \u001b[0m\u001b[1m首先， …\u001b[0m\u001b[1m \u001b[0m|\u001b[1m          \u001b[0m|\u001b[1m          \u001b[0m|\u001b[1m           \u001b[0m|\u001b[1m          \u001b[0m|\u001b[1m           \u001b[0m|\u001b[1m          \u001b[0m|\n",
      "|\u001b[1m \u001b[0m\u001b[1m其次， …\u001b[0m\u001b[1m \u001b[0m|\u001b[1m          \u001b[0m|\u001b[1m          \u001b[0m|\u001b[1m           \u001b[0m|\u001b[1m          \u001b[0m|\u001b[1m           \u001b[0m|\u001b[1m          \u001b[0m|\n",
      "|\u001b[1m \u001b[0m\u001b[1m}       \u001b[0m\u001b[1m \u001b[0m|\u001b[1m          \u001b[0m|\u001b[1m          \u001b[0m|\u001b[1m           \u001b[0m|\u001b[1m          \u001b[0m|\u001b[1m           \u001b[0m|\u001b[1m          \u001b[0m|\n",
      "+----------+----------+----------+-----------+----------+-----------+----------+\n"
     ]
    }
   ],
   "source": [
    "# 可以先使用 sample 参数来测试单条数据\n",
    "!OPENAI_API_KEY=\"sk-xxx\" langeval run ceval-with-answer.yaml --sample\n",
    "\n",
    "# 可以用 langeval -v/-vv 来打开更多的日志显示。如 langeval -vv run ..."
   ]
  },
  {
   "cell_type": "code",
   "execution_count": 19,
   "metadata": {},
   "outputs": [
    {
     "data": {
      "text/html": [
       "<div>\n",
       "<style scoped>\n",
       "    .dataframe tbody tr th:only-of-type {\n",
       "        vertical-align: middle;\n",
       "    }\n",
       "\n",
       "    .dataframe tbody tr th {\n",
       "        vertical-align: top;\n",
       "    }\n",
       "\n",
       "    .dataframe thead th {\n",
       "        text-align: right;\n",
       "    }\n",
       "</style>\n",
       "<table border=\"1\" class=\"dataframe\">\n",
       "  <thead>\n",
       "    <tr style=\"text-align: right;\">\n",
       "      <th></th>\n",
       "      <th>inputs</th>\n",
       "      <th>run_error</th>\n",
       "      <th>run_outputs</th>\n",
       "      <th>run_elapsed_secs</th>\n",
       "      <th>eval_error</th>\n",
       "      <th>eval_outputs</th>\n",
       "      <th>eval_elapsed_secs</th>\n",
       "    </tr>\n",
       "  </thead>\n",
       "  <tbody>\n",
       "    <tr>\n",
       "      <th>0</th>\n",
       "      <td>{'id': 0, 'question': '下列设备属于资源子网的是____。', 'A'...</td>\n",
       "      <td></td>\n",
       "      <td>{'reasoning': '资源子网是指由一组计算机和相关设备组成的网络，用于共享资源和信...</td>\n",
       "      <td>2.845847</td>\n",
       "      <td></td>\n",
       "      <td>{'score': 0}</td>\n",
       "      <td>0.038005</td>\n",
       "    </tr>\n",
       "  </tbody>\n",
       "</table>\n",
       "</div>"
      ],
      "text/plain": [
       "                                              inputs run_error  \\\n",
       "0  {'id': 0, 'question': '下列设备属于资源子网的是____。', 'A'...             \n",
       "\n",
       "                                         run_outputs  run_elapsed_secs  \\\n",
       "0  {'reasoning': '资源子网是指由一组计算机和相关设备组成的网络，用于共享资源和信...          2.845847   \n",
       "\n",
       "  eval_error  eval_outputs  eval_elapsed_secs  \n",
       "0             {'score': 0}           0.038005  "
      ]
     },
     "execution_count": 19,
     "metadata": {},
     "output_type": "execute_result"
    }
   ],
   "source": [
    "# 任务输出到 output 文件夹下。\n",
    "from pandas import DataFrame\n",
    "result = []\n",
    "with open(\"output/2311031531-c895/output.jsonl\", \"r\") as f:\n",
    "    for line in f:\n",
    "        result.append(json.loads(line))\n",
    "df = DataFrame(result)\n",
    "df"
   ]
  },
  {
   "cell_type": "markdown",
   "metadata": {},
   "source": [
    "去掉 --sample 可以执行全部任务。"
   ]
  },
  {
   "cell_type": "markdown",
   "metadata": {},
   "source": [
    "## 3. `ceval-llm-judge` 任务，使用 GPT-4 进行判卷。\n",
    "\n",
    "```bash\n",
    "export OPENAI_API_KEY=\"sk-xxxxx\"\n",
    "# 单个问题\n",
    "langeval run ceval-llm-judge.yaml --sample\n",
    "\n",
    "# 全量测试\n",
    "langeval run ceval-llm-judge.yaml\n",
    "```"
   ]
  },
  {
   "cell_type": "markdown",
   "metadata": {},
   "source": [
    "## 4. ceval-only-judge 任务，仅评估不运行\n",
    "\n",
    "```bash\n",
    "langeval run ceval-only-judge.yaml\n",
    "```\n",
    "\n",
    "## 5. ceval-only-run 任务，仅运行不评估\n",
    "\n",
    "```bash\n",
    "langeval run ceval-only-run.yaml\n",
    "```"
   ]
  }
 ],
 "metadata": {
  "kernelspec": {
   "display_name": "langeval-cli",
   "language": "python",
   "name": "python3"
  },
  "language_info": {
   "codemirror_mode": {
    "name": "ipython",
    "version": 3
   },
   "file_extension": ".py",
   "mimetype": "text/x-python",
   "name": "python",
   "nbconvert_exporter": "python",
   "pygments_lexer": "ipython3",
   "version": "3.11.6"
  }
 },
 "nbformat": 4,
 "nbformat_minor": 2
}
